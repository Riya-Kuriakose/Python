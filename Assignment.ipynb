{
 "cells": [
  {
   "cell_type": "markdown",
   "metadata": {},
   "source": [
    "# Tools Used\n",
    "\n",
    "Jupyter Notebook,csv module in python\n"
   ]
  },
  {
   "cell_type": "markdown",
   "metadata": {},
   "source": [
    "# Methodology\n",
    "\n",
    "1. Read the data from the given input by splitting it appropriately and add them into a list.\n",
    "\n",
    "2. From the list questions and answers are identified separately using appropriate split functions.\n",
    "\n",
    "3. Create a csv file in write mode and add the obtained questions and answers into the csv."
   ]
  },
  {
   "cell_type": "code",
   "execution_count": 113,
   "metadata": {},
   "outputs": [],
   "source": [
    "import csv \n",
    "\n",
    "# Open the input file in read mode.\n",
    "\n",
    "file =  open('input.txt','r',encoding='utf-8')\n",
    "data = file.read()\n",
    "\n",
    "\n",
    "lineq = data.split(\"?\\n\")\n",
    "linea = data.split(\"\\nAnswer:\")\n",
    "\n",
    "# Created a csv file\n",
    "\n",
    "with open('sample.csv','w') as opfile:\n",
    "        writer = csv.writer(opfile)\n",
    "        writer.writerow(['Id','Questions','Answers'])\n",
    "\n",
    "            \n",
    "noq = len(lineq)-1\n",
    "\n",
    "# Splitted the question and answers and added it to a list.\n",
    "\n",
    "for i in range(0,noq):\n",
    "    q = lineq[i].split(str(i+1))[-1]\n",
    "   # print(q)\n",
    "    \n",
    "    a = linea[i+1].split(\"\\n\"+str(i+2))[0]\n",
    "    #print(a)\n",
    "    \n",
    "    Data = [i+1,q,a]\n",
    "    #print(Data)\n",
    "    \n",
    "#Added the data into the csv output file.\n",
    "\n",
    "    file=open('sample.csv', 'a', newline='')\n",
    "    writer = csv.writer(file)\n",
    "    writer.writerow(Data)\n",
    "file.close()\n",
    " \n",
    "    \n",
    "    "
   ]
  },
  {
   "cell_type": "code",
   "execution_count": null,
   "metadata": {},
   "outputs": [],
   "source": []
  },
  {
   "cell_type": "code",
   "execution_count": null,
   "metadata": {},
   "outputs": [],
   "source": []
  }
 ],
 "metadata": {
  "kernelspec": {
   "display_name": "Python 3",
   "language": "python",
   "name": "python3"
  },
  "language_info": {
   "codemirror_mode": {
    "name": "ipython",
    "version": 3
   },
   "file_extension": ".py",
   "mimetype": "text/x-python",
   "name": "python",
   "nbconvert_exporter": "python",
   "pygments_lexer": "ipython3",
   "version": "3.6.5"
  }
 },
 "nbformat": 4,
 "nbformat_minor": 2
}
